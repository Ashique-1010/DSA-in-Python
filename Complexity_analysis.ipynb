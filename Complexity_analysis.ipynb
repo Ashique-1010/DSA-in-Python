{
 "cells": [
  {
   "cell_type": "markdown",
   "metadata": {},
   "source": [
    "# Algorithmic Complexity Analysis\n",
    "### Understanding Big-O Notation, Time-Space complexities"
   ]
  },
  {
   "cell_type": "markdown",
   "metadata": {},
   "source": [
    "Complexity analysis of algorithms is important because it provides insights into their efficiency and behavior. By understanding the time and space complexities, we can predict how algorithms will perform as input sizes grow, allocate resources efficiently, compare different algorithms solving the same problem, and identify areas for optimization. This knowledge is crucial for designing scalable and performant software systems, making informed decisions about algorithm selection, and developing problem-solving skills in computer science education."
   ]
  },
  {
   "cell_type": "markdown",
   "metadata": {},
   "source": [
    "### Asymptotic Notation\n",
    "\n",
    "The rate of growth of runtime of operations or functions is measured as the input gets large,  instead of the exact runtime, as it would vary on different machines. \n",
    "- This measurement is the asymptotic efficiency\n",
    "Asymptotic bounds for each notation:\n",
    "-   $\\Theta$ - theta : Upper, Lower\n",
    "-   Ο - oh  : Upper \n",
    "-   $\\Omega$ - omega : Lower\n",
    "\n",
    " "
   ]
  },
  {
   "cell_type": "markdown",
   "metadata": {},
   "source": [
    "### $\\Theta$-notation\n",
    "\n",
    "$\\Theta$(g(n)) = {f(n): there exists positive constants c1, c2 and $n_{0}$ such that 0 $\\leq$ c1.g(n) $\\leq$ f(n) $\\leq$ c2.g(n) for all n $\\geq$ $n_{0}$}\n",
    "\n",
    "n is the input and g(n) asymptotically tight bound for f(n) \n",
    "\n",
    "$n_{0}$ is the minimum value and f(n) is sandwiched between"
   ]
  },
  {
   "cell_type": "markdown",
   "metadata": {},
   "source": [
    "![alt text](theta.jpg)"
   ]
  },
  {
   "cell_type": "markdown",
   "metadata": {},
   "source": [
    "### Big-O\n"
   ]
  },
  {
   "cell_type": "markdown",
   "metadata": {},
   "source": [
    "Big O notation is a mathematical notation that describes the limiting behavior of a function when the argument tends towards a particular value or infinity.\n",
    "\n",
    "Ο(g(n)) = {f(n): there exists positive constants c and $n_{0}$ such that 0  $\\leq$ f(n) $\\leq$ c.g(n) for all n $\\geq$ $n_{0}$}\n",
    "\n",
    "n is the input size and f(n) is asymptotically upper-bound by c.g(n)\n",
    "\n"
   ]
  },
  {
   "cell_type": "markdown",
   "metadata": {},
   "source": [
    "![alt text](big0.jpg)"
   ]
  },
  {
   "cell_type": "markdown",
   "metadata": {},
   "source": [
    "### $\\Omega$-notation\n",
    "\n",
    "$\\Omega$(g(n)) = {f(n): there exists positive constants c and $n_{0}$ such that 0 $\\leq$ c.g(n) $\\leq$ f(n)  for all n $\\geq$ $n_{0}$}\n",
    "\n",
    "n is the input size and f(n) is asymptotically lower-bound by c.g(n)\n",
    "\n",
    "The runtime for f(n) is c.g(n) for any n > $n_{0}$"
   ]
  },
  {
   "cell_type": "markdown",
   "metadata": {},
   "source": [
    "![alt text](omega.jpg)"
   ]
  },
  {
   "cell_type": "markdown",
   "metadata": {},
   "source": [
    "### Analysis\n",
    "\n",
    "We analyse a;gorithms on the basis of:\n",
    "- Time complexity(runtime)\n",
    "- Space complexity(memory)\n",
    "- I/O (disks reads/writes)\n",
    "\n",
    "The framework we use for analysis is the RAM model\n",
    " - the framewrok assumes a single processor, a RAM, the algorithms are written as computer programs and instructions are executed serially\n",
    "\n",
    "The operations defined by the RAM model are;\n",
    "- arithmetic - add, subtract, multiply, divide\n",
    "- data movement - load, store, copy\n",
    "- control - branching, subroutine calls/returns\n",
    "- shift left - $2^{k}$\n",
    "- sorting and exponentiation are not included\n",
    "\n",
    "Datatypes:\n",
    "- integers, floating points\n",
    "- assume the word size cannot grow arbitrarily(in reality it is limited)\n",
    "- memory hierarchy is ignored(caches)\n",
    "\n",
    "The processes are simplified and abstracted for better analysis\n",
    "\n",
    "\n"
   ]
  },
  {
   "cell_type": "markdown",
   "metadata": {},
   "source": [
    "#### Runtime\n",
    "\n",
    "- The number of primitive steps or operations is considered\n",
    "- each line of pseudocode executes in constant time\n",
    "- i-th executes $c_{i}$ where c is a constant\n",
    "- subroutine calling is in constant time, but executing may not be constant time\n",
    "\n",
    "The computational time generally grows with size of input"
   ]
  },
  {
   "cell_type": "markdown",
   "metadata": {},
   "source": [
    "The common time complexities expressed using Big O notation:\n",
    "\n",
    "1. O(1) :— Constant Time: The algorithm’s running time does not depend on the size of the input; it performs a fixed number of operations\n",
    "2. O(log n) :— Logarithmic Time: The algorithm’s running time grows logarithmically with the size of the input\n",
    "    - logarithmic increment, exponential decrement\n",
    "    - Binary search\n",
    "3. O(n)  :— Linear Time: The algorithm’s running time scales linearly with the size of the input.\n",
    "    - loops with linear increments\n",
    "    - linear search algorithm\n",
    "4. O(n log n) :— Linearithmic Time: The algorithm’s running time grows in proportion to n times the logarithm of n.\n",
    "    - Sorting algorithms like Quicksort, Mergesort, Heapsort\n",
    "5. O(n²) :— Quadratic Time: The algorithm’s running time is directly proportional to the square of the input size.\n",
    "    - Nested loops\n",
    "    - Sorting algorithms like: Buble sort, Insertion sort, Selection sort\n",
    "6. O(2^n) :— Exponential Time: The algorithm’s running time doubles with each increase in the input size.\n",
    "    - Recursion \n",
    "        - Branches in one node of the Decision tree is the base of exponent\n",
    "7. O(n!)  :— Factorial time\n",
    "    - Brute force calculation of permutations or combinations\n",
    "\n",
    "Space complexity in Big O notation measures the amount of memory used by an algorithm with respect to the size of its input. It represents the worst-case memory consumption as the input size increases.\n",
    "\n",
    "1. O(1) — Constant Space: The algorithm uses a fixed amount of memory that does not depend on the input size.\n",
    "2. O(n) — Linear Space: The algorithm’s memory usage grows linearly with the input size.\n",
    "3. O(n²) — Quadratic Space: The algorithm’s memory usage increases proportionally to the square of the input size.\n",
    "    - Objects with Two dimensional space"
   ]
  },
  {
   "cell_type": "markdown",
   "metadata": {},
   "source": [
    "![alt text](tc.jpg)"
   ]
  },
  {
   "cell_type": "markdown",
   "metadata": {},
   "source": [
    "#### Counting analysis\n",
    "A method to calculate the time and space complexity of a function with respect to the input. It makes some assumptions to simplify Big O calculation.\n",
    "\n",
    "Mathematical, relational, assignment and return statement count as 1 operation. In reality, they are multiple operations but from the perspective of computing Big O, they are constant, thus we ignore the details. Let’s look at some examples below:"
   ]
  },
  {
   "cell_type": "markdown",
   "metadata": {},
   "source": [
    "##### Example 1 :   O(1), O(n)"
   ]
  },
  {
   "cell_type": "code",
   "execution_count": 2,
   "metadata": {},
   "outputs": [],
   "source": [
    "                            # assignments, operations etc\n",
    "def SumToN1(num):               # cost * times\n",
    "    sum = 0                     # 1                         = 1\n",
    "    for i in range(num):        # 1+(1+1)*count(num)[N]     = 1+2N\n",
    "        sum += 1                # (1+1)*count(num)[N]       = 2N\n",
    "    return sum                  # 1                         = 1\n",
    "                                #                           = 4N+3\n",
    "                                #                           O(N)   \n",
    "# Time complexity : O(N)\n",
    "# Space complexity : O(1)  ==> space used by variables sum, i are constant w.r.to input(N)                                                             "
   ]
  },
  {
   "cell_type": "code",
   "execution_count": 3,
   "metadata": {},
   "outputs": [],
   "source": [
    "def SumToN2(num):\n",
    "    return num*(num+1)/2         # 1+1+1+1      = 4\n",
    "                                 #              = O(4)\n",
    "                                 #              O(1)           \n",
    "# Time complexity : O(1)\n",
    "# Space complexity : O(1)  ==> space used by variables sum, i are constant w.r.to input(N)                                                                                              "
   ]
  },
  {
   "cell_type": "markdown",
   "metadata": {},
   "source": [
    "##### Example 2 :   O(N+M)"
   ]
  },
  {
   "cell_type": "code",
   "execution_count": 4,
   "metadata": {},
   "outputs": [],
   "source": [
    "def addvalues(N, M):\n",
    "    a, b  = 0               # 1+1           = 2\n",
    "    for i in range(N):      # 1+(1+1)*N     = 1+2N\n",
    "        a += 5              # (1+1)*N       = 2N\n",
    "    for j in range(M):      # 1+(1+1)*M     = 1+2M\n",
    "        b += 6              # (1+1)*M       = 2M\n",
    "                            #               = 4N + 4M + 4\n",
    "                            #              O(N+M)  \n",
    "\n",
    "# Time complexity -> O(N + M)\n",
    "# Space complexity -> O(1). Spaces used by a, b, i, j, N, M are constant with respect to inputs (N, M)                            "
   ]
  },
  {
   "cell_type": "markdown",
   "metadata": {},
   "source": [
    "#### Example 3 :    O(√n)"
   ]
  },
  {
   "cell_type": "code",
   "execution_count": 3,
   "metadata": {},
   "outputs": [
    {
     "name": "stdout",
     "output_type": "stream",
     "text": [
      "1 1\n",
      "2 3\n",
      "3 6\n",
      "4 10\n"
     ]
    },
    {
     "data": {
      "text/plain": [
       "'\\n        i is incremented k times until p < n\\n        since i is incremented by 1, the algorithm computes sum of n numbers until sum reaches limit\\n        So if for k iterations, the functions stops when p > (1+2+3+....+k) ==> p > n\\n        ==> p > k(k+1)/2\\n        ==> p > (k^2 + k)/2 ==> (k^2 + k)/2 > n\\n        ==> the functions reaches limit when   k^2 = n\\n                                          or   k = √n\\n                                          ∵ The algorithm has a time complexity of O(√n)\\n\\n'"
      ]
     },
     "execution_count": 3,
     "metadata": {},
     "output_type": "execute_result"
    }
   ],
   "source": [
    "def SumToLimit(n):\n",
    "    p = 0\n",
    "    i = 1\n",
    "    while(p < n):\n",
    "        p += i\n",
    "        print(i, p)\n",
    "        i += 1\n",
    "\n",
    "SumToLimit(10)\n",
    "\n",
    "\"\"\"\n",
    "        i is incremented k times until p < n\n",
    "        since i is incremented by 1, the algorithm computes sum of n numbers until sum reaches limit\n",
    "        So if for k iterations, the functions stops when p > (1+2+3+....+k) ==> p > n\n",
    "        ==> p > k(k+1)/2\n",
    "        ==> p > (k^2 + k)/2 ==> (k^2 + k)/2 > n\n",
    "        ==> the functions reaches limit when   k^2 = n\n",
    "                                          or   k = √n\n",
    "                                          ∵ The algorithm has a time complexity of O(√n)\n",
    "\n",
    "\"\"\""
   ]
  },
  {
   "cell_type": "markdown",
   "metadata": {},
   "source": [
    "#### Example 4:   O(logn)"
   ]
  },
  {
   "cell_type": "code",
   "execution_count": 11,
   "metadata": {},
   "outputs": [
    {
     "name": "stdout",
     "output_type": "stream",
     "text": [
      "2\n",
      "4\n",
      "8\n",
      "16\n"
     ]
    },
    {
     "data": {
      "text/plain": [
       "'\\n        i is incremented by i*2 ==> on each iteration is raised to power of two\\n        on k-th iteration, value of i becomes i = 2^k\\n        On limit 2^k >= n the function stops\\n        ∵ 2^k = n\\n        ==> k = log_2(n)\\n        ==> O(log(n))\\n'"
      ]
     },
     "execution_count": 11,
     "metadata": {},
     "output_type": "execute_result"
    }
   ],
   "source": [
    "def Pow(n):\n",
    "    i = 1\n",
    "    while(i < n):\n",
    "        i *= 2\n",
    "        print(i)\n",
    "Pow(10)\n",
    "\n",
    "\"\"\"\n",
    "        i is incremented by i*2 ==> on each iteration is raised to power of two\n",
    "        on k-th iteration, value of i becomes i = 2^k\n",
    "        On limit 2^k >= n the function stops\n",
    "        ∵ 2^k = n\n",
    "        ==> k = log_2(n)\n",
    "        ==> O(log(n))           Note: On values where n != power of 2, ceil(log(n)) is taken.\n",
    "\"\"\""
   ]
  },
  {
   "cell_type": "code",
   "execution_count": 12,
   "metadata": {},
   "outputs": [
    {
     "name": "stdout",
     "output_type": "stream",
     "text": [
      "5.0\n",
      "2.5\n",
      "1.25\n",
      "0.625\n"
     ]
    }
   ],
   "source": [
    "def Div(n):\n",
    "    i = n\n",
    "    while(i >= 1):\n",
    "        i /= 2\n",
    "        print(i)\n",
    "Div(10)\n",
    "\n",
    "\"\"\" \n",
    "        Similar to the above example here decay is exponential as i gets divided by 2 on every iteration\n",
    "        on limit n = 1 the function stops and i is incremented by 1/(2^k) for k iterations \n",
    "        ∵ n/(2^k) = 1   ==> n = 2^k\n",
    "        ==> k = log_2(n)\n",
    "        ==> O(log(n))\n",
    "\n",
    "\"\"\""
   ]
  },
  {
   "cell_type": "markdown",
   "metadata": {},
   "source": [
    "#### Example 5:     O(log(log(n)))"
   ]
  },
  {
   "cell_type": "code",
   "execution_count": 13,
   "metadata": {},
   "outputs": [
    {
     "data": {
      "text/plain": [
       "'\\n        On the first while loop p is incremented and i incremented exponentially ∵ has log(n) complexity\\n        On second p from first loop is used, and it itself has log(n) complexity too\\n        So they are combined to have O(log(log(n))) complexity\\n'"
      ]
     },
     "execution_count": 13,
     "metadata": {},
     "output_type": "execute_result"
    }
   ],
   "source": [
    "def useTwo(n):\n",
    "    p = 0\n",
    "    i = 1\n",
    "    while(i<n):\n",
    "        p += 1\n",
    "        i *= 2\n",
    "    j = 1\n",
    "    while(j < p):\n",
    "        \"do\"\n",
    "        j *= 2\n",
    "\n",
    "\"\"\"\n",
    "        On the first while loop p is incremented and i incremented exponentially ∵ has log(n) complexity\n",
    "        On second p from first loop is used, and it itself has log(n) complexity too\n",
    "        So they are combined to have O(log(log(n))) complexity\n",
    "\"\"\""
   ]
  },
  {
   "cell_type": "markdown",
   "metadata": {},
   "source": [
    "#### Example 6 :    O($n^{2}$),     O(n.log(n))"
   ]
  },
  {
   "cell_type": "code",
   "execution_count": null,
   "metadata": {},
   "outputs": [],
   "source": [
    "def quadratic(n):\n",
    "    for i in range(n):\n",
    "        for j in range(n):\n",
    "            \"do\"\n",
    "\n",
    "\"\"\"\n",
    "        The first loop and second loop executes in linear times but are correlated\n",
    "        ∵ n*n ==> n^2\n",
    "        ==> O(n^2)\n",
    "\"\"\"\n",
    "\n",
    "\n",
    "\n",
    "\n",
    "def nLog(n):\n",
    "    j = 1\n",
    "    for i in range(n):\n",
    "        while j < n:\n",
    "            j *= 2\n",
    "            \"do\"\n",
    "\n",
    "\"\"\"\n",
    "        The first loop has linear time, as it iterates n times\n",
    "        And second loop has exponential growth so it executes in log n times until limit\n",
    "        ∵ n*logn ==> O(n.log(n))   \n",
    "\"\"\""
   ]
  },
  {
   "cell_type": "markdown",
   "metadata": {},
   "source": [
    "### Understaning expected time complexity\n",
    "Most languages execute $10^{7}$ or $10^{8}$ operations per second.\n",
    "For a given problem of specified input we can assume what the expected time complexity will be, and form our solutions with appropriate algorithms.\n",
    "\n",
    "For inputs n; the expected time complexity will be\n",
    "- n $\\gt$ $10^{8}$  : O(1), O(log(n))\n",
    "- n $\\leq$ $10^{8}$ : O(n)\n",
    "- n $\\leq$ $10^{6}$ : O(n.log(n))\n",
    "- n $\\leq$ $10^{4}$ : O($n^{2}$)\n",
    "- n $\\leq$ 500      : O($n^{3}$)\n",
    "- n $\\leq$ 25       : O($2^{n}$)\n",
    "- n $\\leq$ 12       : O(n!)"
   ]
  },
  {
   "cell_type": "markdown",
   "metadata": {},
   "source": []
  }
 ],
 "metadata": {
  "kernelspec": {
   "display_name": "Python 3",
   "language": "python",
   "name": "python3"
  },
  "language_info": {
   "codemirror_mode": {
    "name": "ipython",
    "version": 3
   },
   "file_extension": ".py",
   "mimetype": "text/x-python",
   "name": "python",
   "nbconvert_exporter": "python",
   "pygments_lexer": "ipython3",
   "version": "3.11.7"
  }
 },
 "nbformat": 4,
 "nbformat_minor": 2
}
