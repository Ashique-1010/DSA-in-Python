{
 "cells": [
  {
   "cell_type": "markdown",
   "metadata": {},
   "source": [
    "# ZScaler sample questions"
   ]
  },
  {
   "cell_type": "markdown",
   "metadata": {},
   "source": [
    "1. Devil's groups \n",
    "\n",
    "Problem statement :\n",
    "There are some groups of devils and they splitted into people to kill them. Devils make People to them left as their group and at last the group with maximum length will be killed. Two types of devils are there namely “@” and “$”\n",
    "People is represented as a string “P”\n",
    "\n",
    "Input Format:\n",
    "First line with the string for input\n",
    "\n",
    "Output Format:\n",
    "Number of groups that can be formed.\n",
    "\n",
    "Constraints:\n",
    "2<=Length of string<=10^9\n",
    "\n",
    "Input string\n",
    "PPPPPP@PPP@PP$PP\n",
    "\n",
    "Output\n",
    "7\n",
    "\n",
    "Explanation\n",
    "4 groups can be formed\n",
    "PPPPPP@\n",
    "PPP@\n",
    "PP$\n",
    "PP\n",
    "\n",
    "Most people in the group lie in group 1 with 7 members.\n",
    "\n"
   ]
  },
  {
   "cell_type": "code",
   "execution_count": 2,
   "metadata": {},
   "outputs": [],
   "source": [
    "def devils_groups(s: str)-> int:\n",
    "    table = s.maketrans('@','$')\n",
    "    s = s.translate(table)\n",
    "    \n",
    "    splitted_text = s.split('$')\n",
    "    maxlen = 0\n",
    "    for s in splitted_text:\n",
    "        maxlen = max(maxlen, len(s))\n",
    "    return maxlen + 1"
   ]
  },
  {
   "cell_type": "code",
   "execution_count": 7,
   "metadata": {},
   "outputs": [],
   "source": [
    "def devils_groups_another(s: str)-> int:\n",
    "    s = s.replace(\"@\", \" \").replace(\"$\", \" \")\n",
    "    s = s.split()\n",
    "    ans = []\n",
    "    for i in s:\n",
    "        ans.append(len(i) + 1)\n",
    "    ans[-1] -= 1\n",
    "    # print(max(ans))\n",
    "    return max(ans)"
   ]
  },
  {
   "cell_type": "code",
   "execution_count": 9,
   "metadata": {},
   "outputs": [
    {
     "name": "stdout",
     "output_type": "stream",
     "text": [
      "7\n",
      "7\n"
     ]
    },
    {
     "data": {
      "text/plain": [
       "(None, None)"
      ]
     },
     "execution_count": 9,
     "metadata": {},
     "output_type": "execute_result"
    }
   ],
   "source": [
    "print(devils_groups(\"PPPPPP@PPP@PP$PP\")), print(devils_groups_another(\"PPPPPP@PPP@PP$PP\"))"
   ]
  },
  {
   "cell_type": "markdown",
   "metadata": {},
   "source": [
    "create a sliding window\n",
    "    - if negtive incr ngtv sum until postv nmbr\n",
    "\n",
    "if next num pstc incrmnt postv\n",
    "    if ntv get min val ngtvs + previous postv"
   ]
  },
  {
   "cell_type": "code",
   "execution_count": 12,
   "metadata": {},
   "outputs": [],
   "source": [
    "def coin_game(steps: int, nums: list[int])-> int:\n",
    "    end = 0\n",
    "    min_sum, p_sum, n_sum = 0\n",
    "    while end < steps:\n",
    "        if nums[end] < 0:\n",
    "            n_sum += nums[end]\n",
    "        else:\n",
    "            min_sum += p_sum - n_sum\n",
    "            p_sum += nums[end]\n",
    "            n_sum = 0\n",
    "        end += 1"
   ]
  },
  {
   "cell_type": "code",
   "execution_count": 10,
   "metadata": {},
   "outputs": [],
   "source": [
    "def coin_game2(nums: list[int])-> int:\n",
    "    sum_, min_req = 0, 0\n",
    "    for n in nums:\n",
    "        sum_ += n\n",
    "        if sum_ < 1:\n",
    "            min_req += (-1 * sum_)\n",
    "            sum_ = 0\n",
    "    return min_req"
   ]
  },
  {
   "cell_type": "code",
   "execution_count": 11,
   "metadata": {},
   "outputs": [
    {
     "name": "stdout",
     "output_type": "stream",
     "text": [
      "7\n"
     ]
    }
   ],
   "source": [
    "arr = [ 2,-9,15,2]\n",
    "print(coin_game2(arr))"
   ]
  },
  {
   "cell_type": "markdown",
   "metadata": {},
   "source": [
    "Find All Unique Combinations of Candidates that Sum to Target\n",
    "Problem Statement: Given an array of candidates and a target number target, find all unique combinations in candidates where the candidate numbers sum to target."
   ]
  },
  {
   "cell_type": "code",
   "execution_count": 1,
   "metadata": {},
   "outputs": [
    {
     "name": "stdout",
     "output_type": "stream",
     "text": [
      "[[2, 2, 3], [7]]\n"
     ]
    }
   ],
   "source": [
    "def combination_sum(candidates, target):\n",
    "    result = []\n",
    "    \n",
    "    def backtrack(remaining, target_combination, start):\n",
    "        if remaining < 0:\n",
    "            return\n",
    "        if remaining == 0:\n",
    "            result.append(target_combination[:])\n",
    "            return\n",
    "        \n",
    "        for i in range(start, len(candidates)):\n",
    "            target_combination.append(candidates[i])\n",
    "            backtrack(remaining - candidates[i], target_combination, i)\n",
    "            target_combination.pop()\n",
    "    \n",
    "    backtrack(target, [], 0)\n",
    "    \n",
    "    return result\n",
    "\n",
    "candidates = [2, 3, 6, 7]\n",
    "target = 7\n",
    "\n",
    "print(combination_sum(candidates, target))"
   ]
  },
  {
   "cell_type": "markdown",
   "metadata": {},
   "source": [
    "<!-- \n",
    "\n",
    "#include <stdio.h>\n",
    "#include <stdlib.h>\n",
    "\n",
    "typedef struct Node {\n",
    "    int vertex;\n",
    "    struct Node* next;\n",
    "} Node;\n",
    "\n",
    "typedef struct Graph {\n",
    "    int numVertices;\n",
    "    Node** adjLists;\n",
    "    int* visited;\n",
    "} Graph;\n",
    "\n",
    "Node* createNode(int v) {\n",
    "    Node* newNode = malloc(sizeof(Node));\n",
    "    newNode->vertex = v;\n",
    "    newNode->next = NULL;\n",
    "    return newNode;\n",
    "}\n",
    "\n",
    "Graph* createGraph(int vertices) {\n",
    "    Graph* graph = malloc(sizeof(Graph));\n",
    "    graph->numVertices = vertices;\n",
    "\n",
    "    graph->adjLists = malloc(vertices * sizeof(Node*));\n",
    "    graph->visited = malloc(vertices * sizeof(int));\n",
    "\n",
    "    for (int i=0; i<vertices; i++) {\n",
    "        graph->adjLists[i] = NULL;\n",
    "        graph->visited[i] = 0; \n",
    "    }\n",
    "    \n",
    "    return graph; \n",
    "}\n",
    "\n",
    "void addEdge(Graph* graph,int src,int dest){\n",
    "     Node* newNode=createNode(dest);\n",
    "     newNode->next=graph->adjLists[src];\n",
    "     graph->adjLists[src]=newNode; \n",
    "}\n",
    "\n",
    "void dfs(Graph* graph,int vertex){\n",
    "     Node* adjList=graph->adjLists[vertex]; \n",
    "     Node* temp=adjList; \n",
    "\n",
    "     graph->visited[vertex]=1; \n",
    "\n",
    "     while(temp!=NULL){\n",
    "         int connectedVertex=temp->vertex; \n",
    "         if(graph->visited[connectedVertex]==0){\n",
    "             dfs(graph,connectedVertex); \n",
    "         }\n",
    "         temp=temp->next; \n",
    "     }\n",
    "     printf(\"%d \",vertex); \n",
    " }\n",
    "\n",
    " int main() {\n",
    "     Graph* graph=createGraph(5); \n",
    "     \n",
    "     addEdge(graph ,0 ,1); \n",
    "     addEdge(graph ,0 ,4); \n",
    "     addEdge(graph ,1 ,4); \n",
    "     addEdge(graph ,1 ,3); \n",
    "     addEdge(graph ,3 ,4); \n",
    "\n",
    "     printf(\"Depth First Traversal starting from vertex %d:\\n\",0); \n",
    "     dfs(graph ,0); \n",
    "\n",
    "     return(0); \n",
    " }\n",
    " -->"
   ]
  },
  {
   "cell_type": "markdown",
   "metadata": {},
   "source": [
    "DFS of graph"
   ]
  },
  {
   "cell_type": "code",
   "execution_count": 2,
   "metadata": {},
   "outputs": [
    {
     "data": {
      "text/plain": [
       "'\\n\\n#include <stdio.h>\\n#include <stdlib.h>\\n\\ntypedef struct Node {\\n    int vertex;\\n    struct Node* next;\\n} Node;\\n\\ntypedef struct Graph {\\n    int numVertices;\\n    Node** adjLists;\\n    int* visited;\\n} Graph;\\n\\nNode* createNode(int v) {\\n    Node* newNode = malloc(sizeof(Node));\\n    newNode->vertex = v;\\n    newNode->next = NULL;\\n    return newNode;\\n}\\n\\nGraph* createGraph(int vertices) {\\n    Graph* graph = malloc(sizeof(Graph));\\n    graph->numVertices = vertices;\\n\\n    graph->adjLists = malloc(vertices * sizeof(Node*));\\n    graph->visited = malloc(vertices * sizeof(int));\\n\\n    for (int i=0; i<vertices; i++) {\\n        graph->adjLists[i] = NULL;\\n        graph->visited[i] = 0; \\n    }\\n    \\n    return graph; \\n}\\n\\nvoid addEdge(Graph* graph,int src,int dest){\\n     Node* newNode=createNode(dest);\\n     newNode->next=graph->adjLists[src];\\n     graph->adjLists[src]=newNode; \\n}\\n\\nvoid dfs(Graph* graph,int vertex){\\n     Node* adjList=graph->adjLists[vertex]; \\n     Node* temp=adjList; \\n\\n     graph->visited[vertex]=1; \\n\\n     while(temp!=NULL){\\n         int connectedVertex=temp->vertex; \\n         if(graph->visited[connectedVertex]==0){\\n             dfs(graph,connectedVertex); \\n         }\\n         temp=temp->next; \\n     }\\n     printf(\"%d \",vertex); \\n }\\n\\n int main() {\\n     Graph* graph=createGraph(5); \\n     \\n     addEdge(graph ,0 ,1); \\n     addEdge(graph ,0 ,4); \\n     addEdge(graph ,1 ,4); \\n     addEdge(graph ,1 ,3); \\n     addEdge(graph ,3 ,4); \\n\\n     printf(\"Depth First Traversal starting from vertex %d:\\n\",0); \\n     dfs(graph ,0); \\n\\n     return(0); \\n }\\n'"
      ]
     },
     "execution_count": 2,
     "metadata": {},
     "output_type": "execute_result"
    }
   ],
   "source": [
    "\"\"\"\n",
    "\n",
    "#include <stdio.h>\n",
    "#include <stdlib.h>\n",
    "\n",
    "typedef struct Node {\n",
    "    int vertex;\n",
    "    struct Node* next;\n",
    "} Node;\n",
    "\n",
    "typedef struct Graph {\n",
    "    int numVertices;\n",
    "    Node** adjLists;\n",
    "    int* visited;\n",
    "} Graph;\n",
    "\n",
    "Node* createNode(int v) {\n",
    "    Node* newNode = malloc(sizeof(Node));\n",
    "    newNode->vertex = v;\n",
    "    newNode->next = NULL;\n",
    "    return newNode;\n",
    "}\n",
    "\n",
    "Graph* createGraph(int vertices) {\n",
    "    Graph* graph = malloc(sizeof(Graph));\n",
    "    graph->numVertices = vertices;\n",
    "\n",
    "    graph->adjLists = malloc(vertices * sizeof(Node*));\n",
    "    graph->visited = malloc(vertices * sizeof(int));\n",
    "\n",
    "    for (int i=0; i<vertices; i++) {\n",
    "        graph->adjLists[i] = NULL;\n",
    "        graph->visited[i] = 0; \n",
    "    }\n",
    "    \n",
    "    return graph; \n",
    "}\n",
    "\n",
    "void addEdge(Graph* graph,int src,int dest){\n",
    "     Node* newNode=createNode(dest);\n",
    "     newNode->next=graph->adjLists[src];\n",
    "     graph->adjLists[src]=newNode; \n",
    "}\n",
    "\n",
    "void dfs(Graph* graph,int vertex){\n",
    "     Node* adjList=graph->adjLists[vertex]; \n",
    "     Node* temp=adjList; \n",
    "\n",
    "     graph->visited[vertex]=1; \n",
    "\n",
    "     while(temp!=NULL){\n",
    "         int connectedVertex=temp->vertex; \n",
    "         if(graph->visited[connectedVertex]==0){\n",
    "             dfs(graph,connectedVertex); \n",
    "         }\n",
    "         temp=temp->next; \n",
    "     }\n",
    "     printf(\"%d \",vertex); \n",
    " }\n",
    "\n",
    " int main() {\n",
    "     Graph* graph=createGraph(5); \n",
    "     \n",
    "     addEdge(graph ,0 ,1); \n",
    "     addEdge(graph ,0 ,4); \n",
    "     addEdge(graph ,1 ,4); \n",
    "     addEdge(graph ,1 ,3); \n",
    "     addEdge(graph ,3 ,4); \n",
    "\n",
    "     printf(\"Depth First Traversal starting from vertex %d:\\n\",0); \n",
    "     dfs(graph ,0); \n",
    "\n",
    "     return(0); \n",
    " }\n",
    "\"\"\""
   ]
  },
  {
   "cell_type": "code",
   "execution_count": null,
   "metadata": {},
   "outputs": [],
   "source": []
  }
 ],
 "metadata": {
  "kernelspec": {
   "display_name": "Python 3",
   "language": "python",
   "name": "python3"
  },
  "language_info": {
   "codemirror_mode": {
    "name": "ipython",
    "version": 3
   },
   "file_extension": ".py",
   "mimetype": "text/x-python",
   "name": "python",
   "nbconvert_exporter": "python",
   "pygments_lexer": "ipython3",
   "version": "3.12.3"
  }
 },
 "nbformat": 4,
 "nbformat_minor": 2
}
